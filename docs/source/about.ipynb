{
 "cells": [
  {
   "cell_type": "markdown",
   "metadata": {},
   "source": [
    "Non-Intrusive Load Monitoring (NILM)\n",
    "======\n",
    "\n",
    "Non-Intrusive Load Monitoring (NILM) is the process of estimating the energy consumed by individual\n",
    "appliances given just a whole-house power meter\n",
    "reading.  In other words, it produces an (estimated) itemised\n",
    "energy bill from just a single, whole-house power meter.\n",
    "\n",
    "NILM is sometimes called:\n",
    "\n",
    "* \"non-intrusive appliance load monitoring (NALM or NIALM)\"\n",
    "* \"[electriciy | energy | smart meter] disaggregation\"\n",
    "\n",
    "Below is an illustration (produced using nilmtk) of what NILM, in general, can do.\n",
    "\n",
    "![Drawing](https://dl.dropboxusercontent.com/u/75845627/nilmtk/submetered.png)"
   ]
  },
  {
   "cell_type": "markdown",
   "metadata": {},
   "source": [
    "Why a toolkit for NILM?\n",
    "======\n",
    "\n",
    "We quote our [nilmtk paper](http://arxiv.org/pdf/1404.3878v1.pdf) explaining the need for a NILM toolkit.\n",
    "\n",
    ">Empirically comparing disaggregation algorithms is currently virtually impossible. This is due to the different data sets used, the lack of reference implementations of these algorithms and the variety of accuracy metrics employed. "
   ]
  },
  {
   "cell_type": "markdown",
   "metadata": {},
   "source": [
    "What nilmtk provides\n",
    "====================\n",
    "\n",
    "To address this challenge, we present the Non-intrusive Load Monitoring Toolkit (NILMTK); an open source toolkit designed specifically to enable the comparison of energy disaggregation algorithms in a reproducible manner. This work is the first research to compare multiple disaggregation approaches across multiple publicly available data sets. nilmtk includes:\n",
    "\n",
    "* parsers for a range of existing data sets (8 and counting)\n",
    "* a collection of preprocessing algorithms\n",
    "* a set of statistics for describing data sets\n",
    "* 3 reference benchmark disaggregation algorithms and a suite of accuracy metrics\n",
    "* a common set of accuracy metrics\n",
    "* and much more!"
   ]
  },
  {
   "cell_type": "code",
   "execution_count": null,
   "metadata": {
    "collapsed": true
   },
   "outputs": [],
   "source": []
  }
 ],
 "metadata": {
  "kernelspec": {
   "display_name": "Python 2",
   "language": "python",
   "name": "python2"
  },
  "language_info": {
   "codemirror_mode": {
    "name": "ipython",
    "version": 2
   },
   "file_extension": ".py",
   "mimetype": "text/x-python",
   "name": "python",
   "nbconvert_exporter": "python",
   "pygments_lexer": "ipython2",
   "version": "2.7.9"
  }
 },
 "nbformat": 4,
 "nbformat_minor": 0
}
